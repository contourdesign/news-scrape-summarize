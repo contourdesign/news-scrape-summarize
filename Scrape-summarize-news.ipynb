{
 "cells": [
  {
   "cell_type": "code",
   "execution_count": 1,
   "id": "dimensional-yesterday",
   "metadata": {},
   "outputs": [],
   "source": [
    "import nltk\n",
    "import newspaper"
   ]
  },
  {
   "cell_type": "code",
   "execution_count": 2,
   "id": "known-placement",
   "metadata": {},
   "outputs": [],
   "source": [
    "from newspaper import Article"
   ]
  },
  {
   "cell_type": "code",
   "execution_count": 7,
   "id": "sunrise-clark",
   "metadata": {},
   "outputs": [],
   "source": [
    "url = 'https://www.cnn.com/2021/07/31/health/us-coronavirus-saturday/index.html'\n",
    "article = Article(url)"
   ]
  },
  {
   "cell_type": "code",
   "execution_count": 8,
   "id": "rational-milton",
   "metadata": {},
   "outputs": [
    {
     "name": "stderr",
     "output_type": "stream",
     "text": [
      "[nltk_data] Downloading package punkt to\n",
      "[nltk_data]     C:\\Users\\18586\\AppData\\Roaming\\nltk_data...\n",
      "[nltk_data]   Package punkt is already up-to-date!\n"
     ]
    }
   ],
   "source": [
    "article.download()\n",
    "article.parse()\n",
    "nltk.download('punkt')\n",
    "article.nlp()"
   ]
  },
  {
   "cell_type": "code",
   "execution_count": 9,
   "id": "continued-conflict",
   "metadata": {},
   "outputs": [
    {
     "data": {
      "text/plain": [
       "['Travis Caldwell']"
      ]
     },
     "execution_count": 9,
     "metadata": {},
     "output_type": "execute_result"
    }
   ],
   "source": [
    "article.authors"
   ]
  },
  {
   "cell_type": "code",
   "execution_count": 10,
   "id": "imperial-promise",
   "metadata": {},
   "outputs": [
    {
     "data": {
      "text/plain": [
       "datetime.datetime(2021, 7, 31, 0, 0)"
      ]
     },
     "execution_count": 10,
     "metadata": {},
     "output_type": "execute_result"
    }
   ],
   "source": [
    "article.publish_date"
   ]
  },
  {
   "cell_type": "code",
   "execution_count": 11,
   "id": "british-memorabilia",
   "metadata": {},
   "outputs": [
    {
     "data": {
      "text/plain": [
       "'https://cdn.cnn.com/cnnnext/dam/assets/210730235551-florida-covid-treatment-tent-0729-super-tease.jpg'"
      ]
     },
     "execution_count": 11,
     "metadata": {},
     "output_type": "execute_result"
    }
   ],
   "source": [
    "article.top_image"
   ]
  },
  {
   "cell_type": "code",
   "execution_count": 12,
   "id": "close-benchmark",
   "metadata": {},
   "outputs": [
    {
     "name": "stdout",
     "output_type": "stream",
     "text": [
      "(CNN) With the recent increase of Covid-19 infections and hospitalizations due to the spread of the highly transmissible Delta variant , health experts and officials expect the surge to worsen as long as large segments of the country remain unvaccinated.\n",
      "\n",
      "\"We will see this big, steep acceleration,\" Dr. Peter Hotez, co-director for the Center for Vaccine Development at Texas Children's Hospital, told CNN's Anderson Cooper on Friday . \"As bad as things are right now in the South, they are about to get worse for lots of unvaccinated individuals.\"\n",
      "\n",
      "Officials in Southern states, where vaccination rates have generally lagged other parts of the country, are working to get the message out.\n",
      "\n",
      "In Georgia, the case rate has more than tripled over the last 14-day period, the state health department announced Friday as it urged residents to get vaccinated since the Delta variant is more transmissible than earlier Covid-19 strains.\n",
      "\n",
      "\"Unfortunately, we can expect Covid numbers to keep growing. People who are unvaccinated or skip their second dose of vaccine are targets for infection,\" Georgia health commissioner Dr. Kathleen E. Toomey said.\n",
      "\n",
      "More Americans may be responding to the crisis, as recent data from the US Centers for Disease Control and Prevention shows the pace of vaccinations is going up -- especially in states where vaccination rates were lowest.\n",
      "\n",
      "The US averaged 652,084 doses administered per day -- whether a first or a second shot -- over the past week as of Friday, according to the CDC. That's up almost 27% from the average seen about three weeks ago.\n",
      "\n",
      "The increase has been sharper in some states with the lowest vaccine adoption rates.\n",
      "\n",
      "Alabama, which has the lowest percentage of its population fully vaccinated (34%), saw its seven-day average of daily doses more than double from where it was three weeks earlier: 13,131 a day vs. 6,138, according to the CDC.\n",
      "\n",
      "That average also more than doubled in three weeks in Arkansas (9,842 daily vs. 3,962 daily) and Louisiana (13,500 daily doses vs. 6,411 daily). Each of those two states have less than 38% of its populations fully vaccinated, according to CDC data.\n",
      "\n",
      "As of Friday morning, 49.5% of the US population was fully vaccinated, according to the CDC . The fully vaccinated figure was 57.9% for people eligible for inoculation -- those ages 12 and up.\n",
      "\n",
      "Nurses at a treatment tent outside the emergency department at Holmes Regional Medical Center in Melbourne, Florida, which serves as an overflow area for those with Covid-19 infections.\n",
      "\n",
      "Mask mandates return for vaccinated and unvaccinated\n",
      "\n",
      "Due to the increased transmissibility of the Delta variant, officials are preaching for all Americans -- regardless of vaccination status -- to be mindful of their surroundings.\n",
      "\n",
      "Aerosols containing Covid-19 can travel as easily as the smoke from a cigarette, Michael Osterholm, director of the Center for Infectious Disease Research and Policy at the University of Minnesota, said Friday.\n",
      "\n",
      "\"If you want to understand what an aerosol is, just think of somebody smoking,\" Osterholm told CNN. \"If you can smell a cigarette in the location you're at, then you're breathing someone else's air that may have the virus in it.\"\n",
      "\n",
      "Osterholm noted that while indoor transmission of the virus is the main challenge, there are examples of Covid-19 being transmitted outdoors, when people were close together for extended periods of time.\n",
      "\n",
      "Because of this, mask mandates are making a return in more cities.\n",
      "\n",
      "On Friday, the cities of Birmingham, New Orleans, and Louisville each announced plans to reinstitute mask mandates to lower indoor transmission.\n",
      "\n",
      "\"If we take the steps that are necessary to squash the amount of disease that is there now, we can do so in a matter of weeks, if we all get vaccinated, if we wear masks,\" CDC director Dr. Rochelle Walensky told Fox News on Friday.\n",
      "\n",
      "The CDC this week changed its guidance on mask usage and advises vaccinated people to resume mask wearing indoors in areas of \"high\" or \"substantial\" transmission of the virus. That currently covers more than 80% of the US population, according to a CNN analysis of data published Friday by the CDC.\n",
      "\n",
      "A recent study shows the Delta variant can produce similar amounts of virus in both vaccinated and unvaccinated people, yet real-world data is demonstrating that unvaccinated people are at much higher risk for severe illness.\n",
      "\n",
      "Coronavirus case rates have jumped as the Delta variant has increased its grip in the United States.\n",
      "\n",
      "The US averaged more than 77,800 new daily cases over the last week -- an average that's generally risen since the country hit a 2021 low of 11,299 daily cases on June 22, according to Johns Hopkins University data.\n",
      "\n",
      "Hospitalizations also have risen. More than 43,700 Covid-19 patients were in US hospitals on Wednesday -- a number that's generally risen since a 2021 low of 15,906 on June 27, according to Department of Health and Human Services data.\n",
      "\n",
      "At Los Angeles' Providence Cedars-Sinai Tarzana Medical Center, the vast majority of hospitalized Covid-19 patients were not vaccinated.\n",
      "\n",
      "\"(Most) say, 'If I knew that I was going to feel this bad, I would have gotten the vaccine,'\" the center's director, Dr. Thomas Yadegar, told CNN on Saturday.\n",
      "\n",
      "ICUs are filling up again\n",
      "\n",
      "As the Delta variant spreads, hospitalizations are accumulating to levels of concern.\n",
      "\n",
      "Mississippi, which has one of the lowest rates of vaccination among US states, is dealing with a skyrocketing level of Covid-19 patients needing hospitalization.\n",
      "\n",
      "Data from the Mississippi Department of Health on Friday showed that out of 827 ICU beds statewide, only 107, or approximately 13%, are currently available. All 88 beds in the University of Mississippi Medical Center's intensive care unit, the state's largest, are full.\n",
      "\n",
      "Hospitalizations are beginning to be seen in younger age groups, state health officer Dr. Thomas Dobbs said Thursday. He pointed to data that shows 88% of hospitalizations are among unvaccinated people, and it is having a \"significant spill-over effect to older, vaccinated Mississippians.\"\n",
      "\n",
      "In Texas, Austin Public Health says the region is facing the lowest staffed ICU bed capacity since the beginning of the pandemic, with only 16 staffed beds available.\n",
      "\n",
      "\"Our ICU capacity is reaching a critical point where the level of risk to the entire community has significantly increased, and not just to those who are needing treatment for Covid,\" Austin-Travis County Health Authority Dr. Desmar Walkes said on Friday. \"If we fail to come together as a community now, we jeopardize the lives of loved ones who might need critical care.\"\n",
      "\n",
      "Throughout the state, several trauma service areas each had less than ten ICU beds available on Friday, according to Texas health data. Some of the areas affected include Amarillo, Wichita Falls, Abilene, Killeen, Waco, Beaumont, and Victoria.\n",
      "\n",
      "Florida healthcare facilities continue to prepare for the surge, as the AdventHealth Hospital System stopped all non-emergency surgeries and procedures due to high Covid-19 hospitalization.\n",
      "\n",
      "AdventHealth Central Florida Chief Clinical Officer Dr. Neil Finkler said on Friday that over 90% of the Covid-19 patients currently hospitalized are unvaccinated.\n",
      "\n",
      "\"None of these patients thought they would get the virus, but the Delta variant has proven to be so highly contagious that even the young and the healthy, including pregnant patients, are now starting to fill up our hospitals,\" Finkler said.\n"
     ]
    }
   ],
   "source": [
    "print(article.text)"
   ]
  },
  {
   "cell_type": "code",
   "execution_count": 13,
   "id": "dental-sterling",
   "metadata": {},
   "outputs": [
    {
     "name": "stdout",
     "output_type": "stream",
     "text": [
      "(CNN) With the recent increase of Covid-19 infections and hospitalizations due to the spread of the highly transmissible Delta variant , health experts and officials expect the surge to worsen as long as large segments of the country remain unvaccinated.\n",
      "As of Friday morning, 49.5% of the US population was fully vaccinated, according to the CDC .\n",
      "At Los Angeles' Providence Cedars-Sinai Tarzana Medical Center, the vast majority of hospitalized Covid-19 patients were not vaccinated.\n",
      "ICUs are filling up againAs the Delta variant spreads, hospitalizations are accumulating to levels of concern.\n",
      "AdventHealth Central Florida Chief Clinical Officer Dr. Neil Finkler said on Friday that over 90% of the Covid-19 patients currently hospitalized are unvaccinated.\n"
     ]
    }
   ],
   "source": [
    "#get summary\n",
    "print(article.summary)"
   ]
  },
  {
   "cell_type": "code",
   "execution_count": null,
   "id": "armed-organizer",
   "metadata": {},
   "outputs": [],
   "source": []
  }
 ],
 "metadata": {
  "kernelspec": {
   "display_name": "Python [conda env:PythonData] *",
   "language": "python",
   "name": "conda-env-PythonData-py"
  },
  "language_info": {
   "codemirror_mode": {
    "name": "ipython",
    "version": 3
   },
   "file_extension": ".py",
   "mimetype": "text/x-python",
   "name": "python",
   "nbconvert_exporter": "python",
   "pygments_lexer": "ipython3",
   "version": "3.6.10"
  }
 },
 "nbformat": 4,
 "nbformat_minor": 5
}
